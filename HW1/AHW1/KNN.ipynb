{
 "cells": [
  {
   "cell_type": "code",
   "execution_count": 33,
   "id": "7e7d42f1-64ae-4c25-8042-f40fbf2707e4",
   "metadata": {},
   "outputs": [],
   "source": [
    "import numpy as np\n",
    "from sklearn.metrics import accuracy_score"
   ]
  },
  {
   "cell_type": "code",
   "execution_count": 34,
   "id": "98080047-5623-4dcc-86a0-081ce9402fc9",
   "metadata": {},
   "outputs": [],
   "source": [
    "def unpickle(file):\n",
    "    import pickle\n",
    "    with open(file, 'rb') as fo:\n",
    "        dict = pickle.load(fo, encoding='bytes')\n",
    "    return dict"
   ]
  },
  {
   "cell_type": "markdown",
   "id": "ccfc26f2",
   "metadata": {},
   "source": [
    "# knn using for loop:"
   ]
  },
  {
   "cell_type": "code",
   "execution_count": 35,
   "id": "9f1421f6",
   "metadata": {},
   "outputs": [
    {
     "name": "stdout",
     "output_type": "stream",
     "text": [
      "Please wait....\n",
      "y_test :  [3 8 8 ... 1 3 8]\n",
      "y_pred :  [8 8 1 ... 9 8 8]\n",
      "k=1 -> accuracy=0.253\n",
      "Finished!\n"
     ]
    }
   ],
   "source": [
    "class NearestNeighbor:\n",
    "    \n",
    "    def __init__(self):\n",
    "        pass\n",
    "    \n",
    "    def train(self, X, y):\n",
    "        # X is N × D where each row is an example. Y is 1D of size N\n",
    "        # The nearest neighbor classifier simply remembers all the training data\n",
    "        self.Xtr = X\n",
    "        self.ytr = y\n",
    "    \n",
    "    def predict(self, X):\n",
    "        # X is N × D where each row is an example we wish to predict label for\n",
    "        num_test = X.shape[0]\n",
    "        # make sure that output type matches the input type\n",
    "        Ypred = np.zeros(num_test, dtype=int)\n",
    "        #loop over all test rows\n",
    "        for i in range(num_test):\n",
    "            # find the nearest training image to the i’th test image using L1 distance\n",
    "            distances = np.sum(np.abs(self.Xtr - X[i, :]), axis=1)\n",
    "            min_index = np.argmin(distances)\n",
    "            Ypred[i] = self.ytr[min_index]\n",
    "        return Ypred\n",
    "\n",
    "data_batch_1 = unpickle(\"./cifar-10-batches-py/data_batch_1\")\n",
    "data_batch_2 = unpickle(\"./cifar-10-batches-py/data_batch_2\")\n",
    "data_batch_3 = unpickle(\"./cifar-10-batches-py/data_batch_3\")\n",
    "data_batch_4 = unpickle(\"./cifar-10-batches-py/data_batch_4\")\n",
    "data_batch_5 = unpickle(\"./cifar-10-batches-py/data_batch_5\")\n",
    "meta_data = unpickle(\"./cifar-10-batches-py/batches.meta\")\n",
    "test_batch = unpickle(\"./cifar-10-batches-py/test_batch\")\n",
    "X_train = np.concatenate((data_batch_1[b'data'],\n",
    "                    data_batch_2[b'data'],\n",
    "                    data_batch_3[b'data'],\n",
    "                    data_batch_4[b'data'],\n",
    "                    data_batch_5[b'data']), axis=0)\n",
    "    \n",
    "y_train = data_batch_1[b'labels'] + \\\n",
    "    data_batch_2[b'labels'] + data_batch_3[b'labels'] + data_batch_4[b'labels'] + data_batch_5[b'labels'] \n",
    "X_test, y_test = test_batch[b'data'][:1000], test_batch[b'labels'][:1000]\n",
    "\n",
    "print(\"Please wait....\")\n",
    "knn = NearestNeighbor()\n",
    "knn.train(X_train, y_train)\n",
    "y_pred = knn.predict(X_test)\n",
    "np.set_printoptions(threshold=10)\n",
    "resault = {\"y_test\": y_test, \"y_pred\": y_pred}\n",
    "file = open('resault.txt', 'w')\n",
    "file.write(str(resault))\n",
    "file.close()\n",
    "\n",
    "print(\"y_test : \", np.array(y_test))\n",
    "print(\"y_pred : \", np.array(y_pred))\n",
    "print(f\"k={1} -> accuracy={accuracy_score(y_test, y_pred)}\")\n",
    "print(\"Finished!\")\n"
   ]
  },
  {
   "cell_type": "markdown",
   "id": "7c040c45",
   "metadata": {},
   "source": [
    "# knn using KNeighborsClassifier:"
   ]
  },
  {
   "cell_type": "code",
   "execution_count": 36,
   "id": "b6d69b09",
   "metadata": {},
   "outputs": [],
   "source": [
    "import matplotlib.pyplot as plt\n",
    "from sklearn.neighbors import KNeighborsClassifier\n",
    "from sklearn.preprocessing import StandardScaler"
   ]
  },
  {
   "cell_type": "code",
   "execution_count": 37,
   "id": "35a6d983-7fe0-4021-8d9d-56c29c0ab63d",
   "metadata": {
    "scrolled": true
   },
   "outputs": [
    {
     "name": "stdout",
     "output_type": "stream",
     "text": [
      "Please wait....\n",
      "y_test :  [3 8 8 ... 1 3 8]\n",
      "y_pred :  [4 8 8 ... 0 3 8]\n",
      "k=1 -> accuracy=0.349\n",
      "Finished!\n"
     ]
    }
   ],
   "source": [
    "data_batch_1 = unpickle(\"./cifar-10-batches-py/data_batch_1\")\n",
    "data_batch_2 = unpickle(\"./cifar-10-batches-py/data_batch_2\")\n",
    "data_batch_3 = unpickle(\"./cifar-10-batches-py/data_batch_3\")\n",
    "data_batch_4 = unpickle(\"./cifar-10-batches-py/data_batch_4\")\n",
    "data_batch_5 = unpickle(\"./cifar-10-batches-py/data_batch_5\")\n",
    "meta_data = unpickle(\"./cifar-10-batches-py/batches.meta\")\n",
    "test_batch = unpickle(\"./cifar-10-batches-py/test_batch\")\n",
    "X_train = np.concatenate((data_batch_1[b'data'],\n",
    "                    data_batch_2[b'data'],\n",
    "                    data_batch_3[b'data'],\n",
    "                    data_batch_4[b'data'],\n",
    "                    data_batch_5[b'data']), axis=0)\n",
    "    \n",
    "scaler = StandardScaler()\n",
    "X_train = scaler.fit_transform(X_train)\n",
    "\n",
    "y_train = data_batch_1[b'labels'] + \\\n",
    "    data_batch_2[b'labels'] + data_batch_3[b'labels'] + data_batch_4[b'labels'] + data_batch_5[b'labels'] \n",
    "\n",
    "X_test, y_test = test_batch[b'data'][:1000], test_batch[b'labels'][:1000]\n",
    "X_test = scaler.fit_transform(X_test)\n",
    "print(\"Please wait....\")\n",
    "knn = KNeighborsClassifier(n_neighbors=1)\n",
    "knn.fit(X_train, y_train)\n",
    "y_pred = knn.predict(X_test).tolist()\n",
    "resault = {\"y_test\": y_test, \"y_pred\": y_pred}\n",
    "# file = open('resault.txt', 'w')\n",
    "# file.write(str(resault))\n",
    "# file.close()\n",
    "print(\"y_test : \", np.array(y_test))\n",
    "print(\"y_pred : \", np.array(y_pred))\n",
    "print(f\"k={1} -> accuracy={accuracy_score(y_test, y_pred)}\")\n",
    "print(\"Finished!\")"
   ]
  }
 ],
 "metadata": {
  "kernelspec": {
   "display_name": "Python 3 (ipykernel)",
   "language": "python",
   "name": "python3"
  },
  "language_info": {
   "codemirror_mode": {
    "name": "ipython",
    "version": 3
   },
   "file_extension": ".py",
   "mimetype": "text/x-python",
   "name": "python",
   "nbconvert_exporter": "python",
   "pygments_lexer": "ipython3",
   "version": "3.11.5"
  }
 },
 "nbformat": 4,
 "nbformat_minor": 5
}
