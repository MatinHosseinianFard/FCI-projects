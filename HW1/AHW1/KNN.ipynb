{
 "cells": [
  {
   "cell_type": "code",
   "execution_count": 2,
   "id": "7e7d42f1-64ae-4c25-8042-f40fbf2707e4",
   "metadata": {},
   "outputs": [],
   "source": [
    "import matplotlib.pyplot as plt\n",
    "import numpy as np\n",
    "from sklearn.neighbors import KNeighborsClassifier\n",
    "from sklearn.preprocessing import StandardScaler\n",
    "from sklearn.metrics import accuracy_score\n"
   ]
  },
  {
   "cell_type": "code",
   "execution_count": 3,
   "id": "98080047-5623-4dcc-86a0-081ce9402fc9",
   "metadata": {},
   "outputs": [],
   "source": [
    "def unpickle(file):\n",
    "    import pickle\n",
    "    with open(file, 'rb') as fo:\n",
    "        dict = pickle.load(fo, encoding='bytes')\n",
    "    return dict"
   ]
  },
  {
   "cell_type": "code",
   "execution_count": 4,
   "id": "35a6d983-7fe0-4021-8d9d-56c29c0ab63d",
   "metadata": {
    "scrolled": true
   },
   "outputs": [
    {
     "name": "stdout",
     "output_type": "stream",
     "text": [
      "Please wait....\n",
      "y_test :  [3 8 8 0 6 6 1 6 3 1 0 9 5 7 9 8 5 7 8 6 7 0 4 9 5 2 4 0 9 6 6 5 4 5 9 2 4\n",
      " 1 9 5 4 6 5 6 0 9 3 9 7 6 9 8 0 3 8 8 7 7 4 6 7 3 6 3 6 2 1 2 3 7 2 6 8 8\n",
      " 0 2 9 3 3 8 8 1 1 7 2 5 2 7 8 9 0 3 8 6 4 6 6 0 0 7 4 5 6 3 1 1 3 6 8 7 4\n",
      " 0 6 2 1 3 0 4 2 7 8 3 1 2 8 0 8 3 5 2 4 1 8 9 1 2 9 7 2 9 6 5 6 3 8 7 6 2\n",
      " 5 2 8 9 6 0 0 5 2 9 5 4 2 1 6 6 8 4 8 4 5 0 9 9 9 8 9 9 3 7 5 0 0 5 2 2 3\n",
      " 8 6 3 4 0 5 8 0 1 7 2 8 8 7 8 5 1 8 7 1 3 0 5 7 9 7 4 5 9 8 0 7 9 8 2 7 6\n",
      " 9 4 3 9 6 4 7 6 5 1 5 8 8 0 4 0 5 5 1 1 8 9 0 3 1 9 2 2 5 3 9 9 4 0 3 0 0\n",
      " 9 8 1 5 7 0 8 2 4 7 0 2 3 6 3 8 5 0 3 4 3 9 0 6 1 0 9 1 0 7 9 1 2 6 9 3 4\n",
      " 6 0 0 6 6 6 3 2 6 1 8 2 1 6 8 6 8 0 4 0 7 7 5 5 3 5 2 3 4 1 7 5 4 6 1 9 3\n",
      " 6 6 9 3 8 0 7 2 6 2 5 8 5 4 6 8 9 9 1 0 2 2 7 3 2 8 0 9 5 8 1 9 4 1 3 8 1\n",
      " 4 7 9 4 2 7 0 7 0 6 6 9 0 9 2 8 7 2 2 5 1 2 6 2 9 6 2 3 0 3 9 8 7 8 8 4 0\n",
      " 1 8 2 7 9 3 6 1 9 0 7 3 7 4 5 0 0 2 9 3 4 0 6 2 5 3 7 3 7 2 5 3 1 1 4 9 9\n",
      " 5 7 5 0 2 2 2 9 7 3 9 4 3 5 4 6 5 6 1 4 3 4 4 3 7 8 3 7 8 0 5 7 6 0 5 4 8\n",
      " 6 8 5 5 9 9 9 5 0 1 0 8 1 1 8 0 2 2 0 4 6 5 4 9 4 7 9 9 4 5 6 6 1 5 3 8 9\n",
      " 5 8 5 7 0 7 0 5 0 0 4 6 9 0 9 5 6 6 6 2 9 0 1 7 6 7 5 9 1 6 2 5 5 5 8 5 9\n",
      " 4 6 4 3 2 0 7 6 2 2 3 9 7 9 2 6 7 1 3 6 6 8 9 7 5 4 0 8 4 0 9 3 4 8 9 6 9\n",
      " 2 6 1 4 7 3 5 3 8 5 0 2 1 6 4 3 3 9 6 9 8 8 5 8 6 6 2 1 7 7 1 2 7 9 9 4 4\n",
      " 1 2 5 6 8 7 6 8 3 0 5 5 3 0 7 9 1 3 4 4 5 3 9 5 6 9 2 1 1 4 1 9 4 7 6 3 8\n",
      " 9 0 1 3 6 3 6 3 2 0 3 1 0 5 9 6 4 8 9 6 9 6 3 0 3 2 2 7 8 3 8 2 7 5 7 2 4\n",
      " 8 7 4 2 9 8 8 6 8 8 7 4 3 3 8 4 9 4 8 8 1 8 2 1 3 6 5 4 2 7 9 9 4 1 4 1 3\n",
      " 2 7 0 7 9 7 6 6 2 5 9 2 9 1 2 2 6 8 2 1 3 6 6 0 1 2 7 0 5 4 6 1 6 4 0 2 2\n",
      " 6 0 5 9 1 7 6 7 0 3 9 6 8 3 0 3 4 7 7 1 4 7 2 7 1 4 7 4 4 8 4 7 7 5 3 7 2\n",
      " 0 8 9 5 8 3 6 2 0 8 7 3 7 6 5 3 1 3 2 2 5 4 1 2 9 2 7 0 7 2 1 3 2 0 2 4 7\n",
      " 9 8 9 0 7 7 0 7 8 4 6 3 3 0 1 3 7 0 1 3 1 4 2 3 8 4 2 3 7 8 4 3 0 9 0 0 1\n",
      " 0 4 4 6 7 6 1 1 3 7 3 5 2 6 6 5 8 7 1 6 8 8 5 3 0 4 0 1 3 8 8 0 6 9 9 9 5\n",
      " 5 8 6 0 0 4 2 3 2 7 2 2 5 9 8 9 1 7 4 0 3 0 1 3 8 3 9 6 1 4 7 0 3 7 8 9 1\n",
      " 1 6 6 6 6 9 1 9 9 4 2 1 7 0 6 8 1 9 2 9 0 4 7 8 3 1 2 0 1 5 8 4 6 3 8 1 3\n",
      " 8]\n",
      "y_pred :  [4 8 8 0 5 6 4 2 4 8 8 8 5 6 4 4 3 2 4 6 8 0 0 7 4 4 6 9 4 6 6 4 3 2 8 4 3\n",
      " 8 4 2 4 6 6 4 0 8 5 0 4 4 7 2 6 3 8 8 4 3 4 4 4 7 6 9 6 4 8 0 3 9 2 4 8 8\n",
      " 8 4 9 5 5 0 8 1 4 0 7 7 5 8 8 1 0 4 0 6 2 3 4 0 0 2 4 4 6 4 1 1 3 6 5 5 4\n",
      " 6 3 4 4 5 0 4 3 6 8 4 2 5 8 2 5 3 6 2 4 1 8 9 6 8 9 0 2 8 6 5 6 3 0 2 2 4\n",
      " 7 2 8 2 4 8 0 5 2 0 4 4 0 2 6 4 8 3 8 4 3 0 0 2 6 8 8 1 0 4 5 0 0 3 6 0 3\n",
      " 0 2 3 5 8 2 3 2 3 4 5 4 5 3 3 3 4 8 2 3 4 0 2 7 0 2 8 3 2 0 0 6 9 0 4 7 4\n",
      " 8 3 3 6 2 3 2 6 3 1 9 4 0 0 4 1 8 6 1 4 4 0 0 4 4 8 6 6 2 5 6 6 6 8 6 8 8\n",
      " 3 8 3 4 3 6 8 2 4 7 0 5 2 6 5 8 3 8 2 5 5 9 4 3 1 8 4 1 8 4 9 1 4 4 3 6 4\n",
      " 2 0 2 2 4 2 6 3 6 8 8 2 1 4 8 6 0 0 2 5 6 4 5 6 5 3 6 6 5 5 0 2 3 2 1 9 6\n",
      " 6 2 4 2 8 8 4 3 6 2 6 7 2 3 2 8 8 7 3 1 2 3 3 6 6 0 1 4 5 8 0 6 8 4 1 0 4\n",
      " 2 7 0 0 2 7 8 4 2 6 8 9 4 0 2 0 4 6 2 5 5 0 2 6 6 2 2 7 0 8 9 8 7 8 8 2 0\n",
      " 7 8 3 8 9 2 6 9 8 8 7 3 4 6 4 8 5 2 8 3 6 8 6 6 5 5 3 2 4 4 4 2 1 4 4 1 8\n",
      " 3 4 5 0 2 0 6 9 5 2 1 2 4 2 6 8 7 4 1 6 3 6 4 2 3 4 3 6 8 4 2 6 4 8 2 4 8\n",
      " 6 8 2 5 8 9 9 0 0 4 2 8 4 8 8 3 2 5 2 4 6 3 4 8 0 7 4 3 4 5 6 6 1 5 6 8 9\n",
      " 9 8 3 0 8 7 0 2 4 2 8 6 0 8 2 8 2 6 4 4 1 0 0 9 6 4 5 9 1 2 2 5 2 6 8 6 7\n",
      " 8 2 6 3 2 0 4 4 4 4 3 4 5 0 6 6 7 0 6 6 6 8 8 2 8 4 8 4 4 0 4 8 2 8 8 6 0\n",
      " 4 4 8 2 0 4 7 5 2 6 8 2 1 6 0 3 6 9 4 8 8 8 4 3 7 4 0 9 4 4 7 3 4 4 6 4 4\n",
      " 5 8 2 6 3 7 8 0 4 8 2 6 2 2 2 8 1 2 2 4 3 3 6 6 2 9 8 1 1 4 6 0 5 7 6 5 8\n",
      " 5 0 8 6 2 5 5 3 4 2 4 2 6 5 4 3 7 4 2 5 9 5 6 2 5 2 3 4 8 4 8 5 4 4 5 0 3\n",
      " 4 2 4 0 2 8 8 6 8 8 7 4 6 2 1 4 0 2 8 8 8 8 0 8 4 4 5 4 2 7 2 8 2 0 0 1 7\n",
      " 5 7 4 4 4 2 2 6 2 3 4 2 6 4 4 4 2 8 8 1 3 6 6 1 8 2 2 8 2 2 3 2 5 5 2 4 7\n",
      " 6 2 5 4 4 4 4 6 8 3 9 4 8 0 0 0 8 5 8 4 3 6 0 7 0 0 7 0 6 8 2 0 3 3 3 7 2\n",
      " 0 1 3 4 4 2 6 2 9 8 4 0 7 3 6 7 2 3 2 4 4 4 1 5 4 2 7 4 4 4 7 3 5 0 4 4 5\n",
      " 5 9 9 0 8 7 0 4 3 4 0 3 3 0 1 3 2 4 4 6 0 4 0 3 0 2 2 8 4 8 6 8 0 9 2 0 9\n",
      " 4 4 4 4 7 6 1 1 3 7 5 5 4 6 6 5 8 4 4 4 8 4 6 5 0 4 3 8 4 8 8 4 0 2 9 9 4\n",
      " 3 8 6 0 8 6 7 5 3 3 8 6 5 4 8 4 7 2 4 0 5 0 5 4 3 6 9 5 7 4 7 4 2 6 8 8 2\n",
      " 6 6 6 2 6 9 1 4 8 4 4 3 2 0 2 8 3 8 4 8 3 4 7 8 3 8 0 0 0 4 8 6 4 4 8 0 3\n",
      " 8]\n",
      "k=1 -> accuracy=0.349\n",
      "Finished!\n"
     ]
    }
   ],
   "source": [
    "data_batch_1 = unpickle(\"./cifar-10-batches-py/data_batch_1\")\n",
    "data_batch_2 = unpickle(\"./cifar-10-batches-py/data_batch_2\")\n",
    "data_batch_3 = unpickle(\"./cifar-10-batches-py/data_batch_3\")\n",
    "data_batch_4 = unpickle(\"./cifar-10-batches-py/data_batch_4\")\n",
    "data_batch_5 = unpickle(\"./cifar-10-batches-py/data_batch_5\")\n",
    "meta_data = unpickle(\"./cifar-10-batches-py/batches.meta\")\n",
    "test_batch = unpickle(\"./cifar-10-batches-py/test_batch\")\n",
    "X_train = np.concatenate((data_batch_1[b'data'],\n",
    "                    data_batch_2[b'data'],\n",
    "                    data_batch_3[b'data'],\n",
    "                    data_batch_4[b'data'],\n",
    "                    data_batch_5[b'data']), axis=0)\n",
    "scaler = StandardScaler()\n",
    "X_train = scaler.fit_transform(X_train)\n",
    "\n",
    "y_train = data_batch_1[b'labels'] + \\\n",
    "    data_batch_2[b'labels'] + data_batch_3[b'labels'] + data_batch_4[b'labels'] + data_batch_5[b'labels'] \n",
    "\n",
    "X_test, y_test = test_batch[b'data'][:1000], test_batch[b'labels'][:1000]\n",
    "X_test = scaler.fit_transform(X_test)\n",
    "print(\"Please wait....\")\n",
    "knn = KNeighborsClassifier(n_neighbors=1)\n",
    "knn.fit(X_train, y_train)\n",
    "y_pred = knn.predict(X_test).tolist()\n",
    "resault = {\"y_test\": y_test, \"y_pred\": y_pred}\n",
    "file = open('resault.txt', 'w')\n",
    "file.write(str(resault))\n",
    "file.close()\n",
    "print(\"y_test : \", np.array(y_test))\n",
    "print(\"y_pred : \", np.array(y_pred))\n",
    "print(f\"k={1} -> accuracy={accuracy_score(y_test, y_pred)}\")\n",
    "print(\"Finished!\")\n"
   ]
  },
  {
   "cell_type": "code",
   "execution_count": 23,
   "id": "8c203347-5857-4f41-a5d5-939381e24450",
   "metadata": {},
   "outputs": [],
   "source": [
    "# # label names\n",
    "# label_name = meta_data[b'label_names']\n",
    "# # take first image\n",
    "# image = data_batch_1[b'data'][0]\n",
    "# # print(image)\n",
    "# # take first image label index\n",
    "# label = data_batch_1[b'labels'][0]\n",
    "# # Reshape the image\n",
    "# image = image.reshape(3,32,32)\n",
    "# # Transpose the image\n",
    "# image = image.transpose(1,2,0)\n",
    "# # print(image)\n",
    "# # Display the image\n",
    "# plt.imshow(image)\n",
    "# plt.title(label_name[label])"
   ]
  },
  {
   "cell_type": "code",
   "execution_count": null,
   "id": "49da6af6",
   "metadata": {},
   "outputs": [],
   "source": []
  }
 ],
 "metadata": {
  "kernelspec": {
   "display_name": "Python 3 (ipykernel)",
   "language": "python",
   "name": "python3"
  },
  "language_info": {
   "codemirror_mode": {
    "name": "ipython",
    "version": 3
   },
   "file_extension": ".py",
   "mimetype": "text/x-python",
   "name": "python",
   "nbconvert_exporter": "python",
   "pygments_lexer": "ipython3",
   "version": "3.11.5"
  }
 },
 "nbformat": 4,
 "nbformat_minor": 5
}
