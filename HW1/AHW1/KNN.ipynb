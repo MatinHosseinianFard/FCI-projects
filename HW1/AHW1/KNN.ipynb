{
 "cells": [
  {
   "cell_type": "code",
   "execution_count": 7,
   "id": "7e7d42f1-64ae-4c25-8042-f40fbf2707e4",
   "metadata": {},
   "outputs": [],
   "source": [
    "import matplotlib.pyplot as plt\n",
    "import numpy as np\n",
    "from sklearn.neighbors import KNeighborsClassifier\n",
    "from sklearn.preprocessing import StandardScaler\n",
    "from sklearn.metrics import accuracy_score\n"
   ]
  },
  {
   "cell_type": "code",
   "execution_count": 8,
   "id": "98080047-5623-4dcc-86a0-081ce9402fc9",
   "metadata": {},
   "outputs": [],
   "source": [
    "def unpickle(file):\n",
    "    import pickle\n",
    "    with open(file, 'rb') as fo:\n",
    "        dict = pickle.load(fo, encoding='bytes')\n",
    "    return dict"
   ]
  },
  {
   "cell_type": "code",
   "execution_count": 22,
   "id": "35a6d983-7fe0-4021-8d9d-56c29c0ab63d",
   "metadata": {
    "scrolled": true
   },
   "outputs": [
    {
     "name": "stdout",
     "output_type": "stream",
     "text": [
      "Please wait....\n",
      "y_test :  [3 8 8 ... 5 1 7]\n",
      "y_pred :  [4 8 8 ... 5 3 4]\n",
      "k=1 -> accuracy=0.3568\n",
      "Finished!\n"
     ]
    }
   ],
   "source": [
    "data_batch_1 = unpickle(\"./cifar-10-batches-py/data_batch_1\")\n",
    "data_batch_2 = unpickle(\"./cifar-10-batches-py/data_batch_2\")\n",
    "data_batch_3 = unpickle(\"./cifar-10-batches-py/data_batch_3\")\n",
    "data_batch_4 = unpickle(\"./cifar-10-batches-py/data_batch_4\")\n",
    "data_batch_5 = unpickle(\"./cifar-10-batches-py/data_batch_5\")\n",
    "meta_data = unpickle(\"./cifar-10-batches-py/batches.meta\")\n",
    "test_batch = unpickle(\"./cifar-10-batches-py/test_batch\")\n",
    "X_train = np.concatenate((data_batch_1[b'data'],\n",
    "                    data_batch_2[b'data'],\n",
    "                    data_batch_3[b'data'],\n",
    "                    data_batch_4[b'data'],\n",
    "                    data_batch_5[b'data']), axis=0)\n",
    "scaler = StandardScaler()\n",
    "X_train = scaler.fit_transform(X_train)\n",
    "\n",
    "y_train = data_batch_1[b'labels'] + \\\n",
    "    data_batch_2[b'labels'] + data_batch_3[b'labels'] + data_batch_4[b'labels'] + data_batch_5[b'labels'] \n",
    "\n",
    "X_test, y_test = test_batch[b'data'], test_batch[b'labels']\n",
    "X_test = scaler.fit_transform(X_test)\n",
    "print(\"Please wait....\")\n",
    "knn = KNeighborsClassifier(n_neighbors=1)\n",
    "knn.fit(X_train, y_train)\n",
    "y_pred = knn.predict(X_test).tolist()\n",
    "resault = {\"y_test\": y_test, \"y_pred\": y_pred}\n",
    "file = open('resault.txt', 'w')\n",
    "file.write(str(resault))\n",
    "file.close()\n",
    "print(\"y_test : \", np.array(y_test))\n",
    "print(\"y_pred : \", np.array(y_pred))\n",
    "print(f\"k={1} -> accuracy={accuracy_score(y_test, y_pred)}\")\n",
    "print(\"Finished!\")\n"
   ]
  },
  {
   "cell_type": "code",
   "execution_count": 23,
   "id": "8c203347-5857-4f41-a5d5-939381e24450",
   "metadata": {},
   "outputs": [],
   "source": [
    "# # label names\n",
    "# label_name = meta_data[b'label_names']\n",
    "# # take first image\n",
    "# image = data_batch_1[b'data'][0]\n",
    "# # print(image)\n",
    "# # take first image label index\n",
    "# label = data_batch_1[b'labels'][0]\n",
    "# # Reshape the image\n",
    "# image = image.reshape(3,32,32)\n",
    "# # Transpose the image\n",
    "# image = image.transpose(1,2,0)\n",
    "# # print(image)\n",
    "# # Display the image\n",
    "# plt.imshow(image)\n",
    "# plt.title(label_name[label])"
   ]
  },
  {
   "cell_type": "code",
   "execution_count": null,
   "id": "49da6af6",
   "metadata": {},
   "outputs": [],
   "source": []
  }
 ],
 "metadata": {
  "kernelspec": {
   "display_name": "Python 3 (ipykernel)",
   "language": "python",
   "name": "python3"
  },
  "language_info": {
   "codemirror_mode": {
    "name": "ipython",
    "version": 3
   },
   "file_extension": ".py",
   "mimetype": "text/x-python",
   "name": "python",
   "nbconvert_exporter": "python",
   "pygments_lexer": "ipython3",
   "version": "3.11.5"
  }
 },
 "nbformat": 4,
 "nbformat_minor": 5
}
